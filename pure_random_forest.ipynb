{
 "cells": [
  {
   "cell_type": "code",
   "execution_count": 17,
   "metadata": {},
   "outputs": [],
   "source": [
    "import math\n",
    "import random\n",
    "import pandas as pd\n",
    "import numpy as np\n",
    "import matplotlib.pyplot as plt\n",
    "import seaborn as sns\n",
    "pd.options.display.max_seq_items = 200\n",
    "from matplotlib import pyplot as plt\n",
    "\n",
    "from sklearn.feature_selection import RFECV\n",
    "from sklearn.linear_model import LogisticRegression\n",
    "from sklearn.model_selection import train_test_split\n",
    "from sklearn.preprocessing import StandardScaler\n",
    "from sklearn.metrics import f1_score, accuracy_score\n",
    "from sklearn.ensemble import RandomForestClassifier\n",
    "from sklearn import metrics\n",
    "from sklearn.metrics import roc_curve, auc\n",
    "from matplotlib.legend_handler import HandlerLine2D"
   ]
  },
  {
   "cell_type": "code",
   "execution_count": 2,
   "metadata": {},
   "outputs": [],
   "source": [
    "ufc_official = pd.read_csv(\"ufc_official2.csv\")"
   ]
  },
  {
   "cell_type": "code",
   "execution_count": 4,
   "metadata": {},
   "outputs": [],
   "source": [
    "y = ufc_official.Winner #label\n",
    "x = ufc_official.drop('Winner', axis = 1) #features\n",
    "\n",
    "#drop categorical variables that will be impossible to get dummies for\n",
    "x = x.drop(['R_fighter', \"B_fighter\", \"location\", \"country\", \"date\", \"weight_class\"], axis = 1)\n",
    "\n",
    "#get dummy variables\n",
    "x = pd.get_dummies(x, columns = [\"title_bout\", \"gender\", \"better_rank\", \"B_Stance\", \"R_Stance\"], drop_first=True)\n",
    "y = pd.get_dummies(y, columns = 'Winner', drop_first = True)"
   ]
  },
  {
   "cell_type": "code",
   "execution_count": 49,
   "metadata": {},
   "outputs": [],
   "source": [
    "random.seed(10)\n",
    "#Split data into training and testing\n",
    "x_train1, x_test1, y_train1, y_test1 = train_test_split(x, y, test_size = 0.3)\n",
    "#now scale the data (it is all numeric data at this point thanks to the get dummies function)\n",
    "scaler = StandardScaler()\n",
    "x_train1 = scaler.fit_transform(x_train1)\n",
    "x_test1 = scaler.transform(x_test1)"
   ]
  },
  {
   "cell_type": "code",
   "execution_count": 6,
   "metadata": {},
   "outputs": [
    {
     "data": {
      "text/plain": [
       "51"
      ]
     },
     "execution_count": 6,
     "metadata": {},
     "output_type": "execute_result"
    }
   ],
   "source": [
    "#Perform feature selection\n",
    "rfecv = RFECV(estimator = RandomForestClassifier(), cv = 5, step = 1)\n",
    "rfecv = rfecv.fit(x_train1, y_train1.values.ravel())\n",
    "g  = rfecv.get_support(1)\n",
    "len(g)"
   ]
  },
  {
   "cell_type": "code",
   "execution_count": 23,
   "metadata": {},
   "outputs": [],
   "source": [
    "random.seed(10)\n",
    "x_train, x_test, y_train, y_test = train_test_split(x, y, test_size = 0.3)\n",
    "\n",
    "#Scale the variables\n",
    "\n",
    "scaler = StandardScaler()\n",
    "x_train = scaler.fit_transform(x_train)\n",
    "x_test = scaler.transform(x_test)\n",
    "\n",
    "#Perform Feature Selection - this could take a while!!\n",
    "# rfecv = RFECV(estimator = RandomForestClassifier(), cv = 5, step =1)\n",
    "# rfecv = rfecv.fit(x_train, y_train.values.ravel())\n",
    "# f  = rfecv.get_support(1)\n"
   ]
  },
  {
   "cell_type": "code",
   "execution_count": 10,
   "metadata": {},
   "outputs": [],
   "source": [
    "f = [0,  1,  2,  3,  4, 11, 21, 28,37, 38, 40, 41, 45, 47, 51, 52, 53, 54, 55, 56]"
   ]
  },
  {
   "cell_type": "code",
   "execution_count": 44,
   "metadata": {},
   "outputs": [
    {
     "data": {
      "text/plain": [
       "20"
      ]
     },
     "execution_count": 44,
     "metadata": {},
     "output_type": "execute_result"
    }
   ],
   "source": [
    "len(f)"
   ]
  },
  {
   "cell_type": "code",
   "execution_count": 50,
   "metadata": {},
   "outputs": [
    {
     "data": {
      "text/plain": [
       "RandomForestClassifier(max_depth=14, max_features=4, n_estimators=1000,\n",
       "                       random_state=42)"
      ]
     },
     "execution_count": 50,
     "metadata": {},
     "output_type": "execute_result"
    }
   ],
   "source": [
    "x_train1 = pd.DataFrame(x_train1)\n",
    "x_train1 = x_train1[x_train1.columns[f]]\n",
    "#create another object of class random forest classifier, this time with more trees\n",
    "#also i'll change the max_depth, and the max_features (which is like mtry in R)\n",
    "rf = RandomForestClassifier(n_estimators = 1000, random_state = 42, max_depth = 14, max_features=int(math.sqrt(len(f))))\n",
    "rf.fit(x_train1, y_train.values.ravel())"
   ]
  },
  {
   "cell_type": "code",
   "execution_count": 51,
   "metadata": {},
   "outputs": [
    {
     "name": "stdout",
     "output_type": "stream",
     "text": [
      "training set accuracy 49.65\n",
      "training set f1 98.42\n"
     ]
    }
   ],
   "source": [
    "#predict the y_train1 labels to get the training error\n",
    "y_train_pred1 = rf.predict(x_train1)\n",
    "print('training set accuracy %2.2f' % (accuracy_score(y_train1, y_train_pred1)*100))\n",
    "print(\"training set f1 %2.2f\" % (f1_score(y_train, y_train_pred1)*100))"
   ]
  },
  {
   "cell_type": "code",
   "execution_count": 52,
   "metadata": {},
   "outputs": [
    {
     "name": "stdout",
     "output_type": "stream",
     "text": [
      "testing set accuracy 57.84\n",
      "testing set f1 71.91\n"
     ]
    }
   ],
   "source": [
    "#Do the same thing but for testing error\n",
    "x_test1 = pd.DataFrame(x_test1)\n",
    "x_test1 = x_test1[x_test1.columns[f]]\n",
    "#predict the y_test1 labels to get the testing error\n",
    "y_test_predict1 = rf.predict(x_test1)\n",
    "print('testing set accuracy %2.2f' % (accuracy_score(y_test1, y_test_predict1)*100))\n",
    "print(\"testing set f1 %2.2f\" % (f1_score(y_test1, y_test_predict1)*100))"
   ]
  },
  {
   "cell_type": "code",
   "execution_count": null,
   "metadata": {},
   "outputs": [],
   "source": [
    "good_preds = np.array([0,1,2,4,28,40,47,53,54,55,56])\n",
    "random.seed(20)\n",
    "#Split data into training and testing\n",
    "x_train1, x_test1, y_train1, y_test1 = train_test_split(x, y, test_size = 0.3)\n",
    "#now scale the data (it is all numeric data at this point thanks to the get dummies function)\n",
    "scaler = StandardScaler()\n",
    "x_train1 = scaler.fit_transform(x_train1)\n",
    "x_test1 = scaler.transform(x_test1)\n",
    "x_train1 = pd.DataFrame(x_train1)\n",
    "x_train1 = x_train1[x_train1.columns[good_preds]]\n",
    "#create another object of class random forest classifier, this time with more trees\n",
    "#also i'll change the max_depth, and the max_features (which is like mtry in R)\n",
    "rf = RandomForestClassifier(n_estimators = 1000, random_state = 42, max_depth = 14, max_features=int(math.sqrt(len(good_preds))))\n",
    "rf.fit(x_train1, y_train.values.ravel())\n",
    "#predict the y_train1 labels to get the training error\n",
    "y_train_pred1 = rf.predict(x_train1)\n",
    "print('training set accuracy %2.2f' % (accuracy_score(y_train1, y_train_pred1)*100))\n",
    "print(\"training set f1 %2.2f\" % (f1_score(y_train, y_train_pred1)*100))\n",
    "#Do the same thing but for testing error\n",
    "x_test1 = pd.DataFrame(x_test1)\n",
    "x_test1 = x_test1[x_test1.columns[good_preds]]\n",
    "#predict the y_test1 labels to get the testing error\n",
    "y_test_predict1 = rf.predict(x_test1)\n",
    "print('testing set accuracy %2.2f' % (accuracy_score(y_test1, y_test_predict1)*100))\n",
    "print(\"testing set f1 %2.2f\" % (f1_score(y_test1, y_test_predict1)*100))"
   ]
  },
  {
   "cell_type": "markdown",
   "metadata": {},
   "source": [
    "# Title\n",
    "## subtitle \n",
    "### lower title\n"
   ]
  },
  {
   "cell_type": "markdown",
   "metadata": {},
   "source": [
    "*bold*"
   ]
  },
  {
   "cell_type": "markdown",
   "metadata": {},
   "source": [
    "winner red versus blue\n",
    "fights by weight division\n",
    "confusion matrices for logistic regression and random forest\n",
    "random forest parameter tuning models"
   ]
  }
 ],
 "metadata": {
  "kernelspec": {
   "display_name": "Python 3",
   "language": "python",
   "name": "python3"
  },
  "language_info": {
   "codemirror_mode": {
    "name": "ipython",
    "version": 3
   },
   "file_extension": ".py",
   "mimetype": "text/x-python",
   "name": "python",
   "nbconvert_exporter": "python",
   "pygments_lexer": "ipython3",
   "version": "3.7.7"
  }
 },
 "nbformat": 4,
 "nbformat_minor": 4
}
