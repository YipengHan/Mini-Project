{
 "cells": [
  {
   "cell_type": "code",
   "execution_count": 57,
   "metadata": {},
   "outputs": [],
   "source": [
    "# Load the Pandas libraries with alias 'pd' \n",
    "import pandas as pd \n",
    "import numpy as np\n",
    "import seaborn as sns\n",
    "\n",
    "from matplotlib import pyplot as plt\n",
    "from sklearn.linear_model import LogisticRegression\n",
    "from sklearn.model_selection import train_test_split\n",
    "\n",
    "# Used for Confusion Matrix\n",
    "from sklearn import metrics"
   ]
  },
  {
   "cell_type": "code",
   "execution_count": 2,
   "metadata": {},
   "outputs": [],
   "source": [
    "# Creaye Classifiers\n",
    "lr = LogisticRegression()"
   ]
  },
  {
   "cell_type": "code",
   "execution_count": 3,
   "metadata": {
    "collapsed": true
   },
   "outputs": [
    {
     "data": {
      "text/html": [
       "<div>\n",
       "<style scoped>\n",
       "    .dataframe tbody tr th:only-of-type {\n",
       "        vertical-align: middle;\n",
       "    }\n",
       "\n",
       "    .dataframe tbody tr th {\n",
       "        vertical-align: top;\n",
       "    }\n",
       "\n",
       "    .dataframe thead th {\n",
       "        text-align: right;\n",
       "    }\n",
       "</style>\n",
       "<table border=\"1\" class=\"dataframe\">\n",
       "  <thead>\n",
       "    <tr style=\"text-align: right;\">\n",
       "      <th></th>\n",
       "      <th>R_fighter</th>\n",
       "      <th>B_fighter</th>\n",
       "      <th>R_odds</th>\n",
       "      <th>B_odds</th>\n",
       "      <th>R_ev</th>\n",
       "      <th>B_ev</th>\n",
       "      <th>date</th>\n",
       "      <th>location</th>\n",
       "      <th>country</th>\n",
       "      <th>Winner</th>\n",
       "      <th>...</th>\n",
       "      <th>B_Featherweight_rank</th>\n",
       "      <th>B_Bantamweight_rank</th>\n",
       "      <th>B_Flyweight_rank</th>\n",
       "      <th>B_Pound-for-Pound_rank</th>\n",
       "      <th>better_rank</th>\n",
       "      <th>finish</th>\n",
       "      <th>finish_details</th>\n",
       "      <th>finish_round</th>\n",
       "      <th>finish_round_time</th>\n",
       "      <th>total_fight_time_secs</th>\n",
       "    </tr>\n",
       "  </thead>\n",
       "  <tbody>\n",
       "    <tr>\n",
       "      <th>0</th>\n",
       "      <td>Deiveson Figueiredo</td>\n",
       "      <td>Joseph Benavidez</td>\n",
       "      <td>-225</td>\n",
       "      <td>180</td>\n",
       "      <td>44.444444</td>\n",
       "      <td>180.000000</td>\n",
       "      <td>7/18/2020</td>\n",
       "      <td>Abu Dhabi, Abu Dhabi, United Arab Emirates</td>\n",
       "      <td>United Arab Emirates</td>\n",
       "      <td>Red</td>\n",
       "      <td>...</td>\n",
       "      <td>NaN</td>\n",
       "      <td>NaN</td>\n",
       "      <td>2.0</td>\n",
       "      <td>NaN</td>\n",
       "      <td>Red</td>\n",
       "      <td>SUB</td>\n",
       "      <td>Rear Naked Choke</td>\n",
       "      <td>1.0</td>\n",
       "      <td>4:48</td>\n",
       "      <td>288.0</td>\n",
       "    </tr>\n",
       "    <tr>\n",
       "      <th>1</th>\n",
       "      <td>Jack Hermansson</td>\n",
       "      <td>Kelvin Gastelum</td>\n",
       "      <td>-112</td>\n",
       "      <td>-112</td>\n",
       "      <td>89.285714</td>\n",
       "      <td>89.285714</td>\n",
       "      <td>7/18/2020</td>\n",
       "      <td>Abu Dhabi, Abu Dhabi, United Arab Emirates</td>\n",
       "      <td>United Arab Emirates</td>\n",
       "      <td>Red</td>\n",
       "      <td>...</td>\n",
       "      <td>NaN</td>\n",
       "      <td>NaN</td>\n",
       "      <td>NaN</td>\n",
       "      <td>NaN</td>\n",
       "      <td>Red</td>\n",
       "      <td>SUB</td>\n",
       "      <td>Heel Hook</td>\n",
       "      <td>1.0</td>\n",
       "      <td>1:18</td>\n",
       "      <td>78.0</td>\n",
       "    </tr>\n",
       "    <tr>\n",
       "      <th>2</th>\n",
       "      <td>Marc Diakiese</td>\n",
       "      <td>Rafael Fiziev</td>\n",
       "      <td>-167</td>\n",
       "      <td>135</td>\n",
       "      <td>59.880240</td>\n",
       "      <td>135.000000</td>\n",
       "      <td>7/18/2020</td>\n",
       "      <td>Abu Dhabi, Abu Dhabi, United Arab Emirates</td>\n",
       "      <td>United Arab Emirates</td>\n",
       "      <td>Blue</td>\n",
       "      <td>...</td>\n",
       "      <td>NaN</td>\n",
       "      <td>NaN</td>\n",
       "      <td>NaN</td>\n",
       "      <td>NaN</td>\n",
       "      <td>neither</td>\n",
       "      <td>U-DEC</td>\n",
       "      <td>NaN</td>\n",
       "      <td>3.0</td>\n",
       "      <td>5:00</td>\n",
       "      <td>900.0</td>\n",
       "    </tr>\n",
       "    <tr>\n",
       "      <th>3</th>\n",
       "      <td>Ariane Lipski</td>\n",
       "      <td>Luana Carolina</td>\n",
       "      <td>-125</td>\n",
       "      <td>100</td>\n",
       "      <td>80.000000</td>\n",
       "      <td>100.000000</td>\n",
       "      <td>7/18/2020</td>\n",
       "      <td>Abu Dhabi, Abu Dhabi, United Arab Emirates</td>\n",
       "      <td>United Arab Emirates</td>\n",
       "      <td>Red</td>\n",
       "      <td>...</td>\n",
       "      <td>NaN</td>\n",
       "      <td>NaN</td>\n",
       "      <td>NaN</td>\n",
       "      <td>NaN</td>\n",
       "      <td>neither</td>\n",
       "      <td>SUB</td>\n",
       "      <td>Kneebar</td>\n",
       "      <td>1.0</td>\n",
       "      <td>1:28</td>\n",
       "      <td>88.0</td>\n",
       "    </tr>\n",
       "    <tr>\n",
       "      <th>4</th>\n",
       "      <td>Alexandre Pantoja</td>\n",
       "      <td>Askar Askarov</td>\n",
       "      <td>-210</td>\n",
       "      <td>165</td>\n",
       "      <td>47.619048</td>\n",
       "      <td>165.000000</td>\n",
       "      <td>7/18/2020</td>\n",
       "      <td>Abu Dhabi, Abu Dhabi, United Arab Emirates</td>\n",
       "      <td>United Arab Emirates</td>\n",
       "      <td>Blue</td>\n",
       "      <td>...</td>\n",
       "      <td>NaN</td>\n",
       "      <td>NaN</td>\n",
       "      <td>NaN</td>\n",
       "      <td>NaN</td>\n",
       "      <td>neither</td>\n",
       "      <td>U-DEC</td>\n",
       "      <td>NaN</td>\n",
       "      <td>3.0</td>\n",
       "      <td>5:00</td>\n",
       "      <td>900.0</td>\n",
       "    </tr>\n",
       "  </tbody>\n",
       "</table>\n",
       "<p>5 rows × 113 columns</p>\n",
       "</div>"
      ],
      "text/plain": [
       "             R_fighter         B_fighter  R_odds  B_odds       R_ev  \\\n",
       "0  Deiveson Figueiredo  Joseph Benavidez    -225     180  44.444444   \n",
       "1      Jack Hermansson   Kelvin Gastelum    -112    -112  89.285714   \n",
       "2        Marc Diakiese     Rafael Fiziev    -167     135  59.880240   \n",
       "3        Ariane Lipski    Luana Carolina    -125     100  80.000000   \n",
       "4    Alexandre Pantoja     Askar Askarov    -210     165  47.619048   \n",
       "\n",
       "         B_ev       date                                    location  \\\n",
       "0  180.000000  7/18/2020  Abu Dhabi, Abu Dhabi, United Arab Emirates   \n",
       "1   89.285714  7/18/2020  Abu Dhabi, Abu Dhabi, United Arab Emirates   \n",
       "2  135.000000  7/18/2020  Abu Dhabi, Abu Dhabi, United Arab Emirates   \n",
       "3  100.000000  7/18/2020  Abu Dhabi, Abu Dhabi, United Arab Emirates   \n",
       "4  165.000000  7/18/2020  Abu Dhabi, Abu Dhabi, United Arab Emirates   \n",
       "\n",
       "                country Winner  ...  B_Featherweight_rank B_Bantamweight_rank  \\\n",
       "0  United Arab Emirates    Red  ...                   NaN                 NaN   \n",
       "1  United Arab Emirates    Red  ...                   NaN                 NaN   \n",
       "2  United Arab Emirates   Blue  ...                   NaN                 NaN   \n",
       "3  United Arab Emirates    Red  ...                   NaN                 NaN   \n",
       "4  United Arab Emirates   Blue  ...                   NaN                 NaN   \n",
       "\n",
       "  B_Flyweight_rank  B_Pound-for-Pound_rank  better_rank  finish  \\\n",
       "0              2.0                     NaN          Red     SUB   \n",
       "1              NaN                     NaN          Red     SUB   \n",
       "2              NaN                     NaN      neither   U-DEC   \n",
       "3              NaN                     NaN      neither     SUB   \n",
       "4              NaN                     NaN      neither   U-DEC   \n",
       "\n",
       "     finish_details  finish_round  finish_round_time  total_fight_time_secs  \n",
       "0  Rear Naked Choke           1.0               4:48                  288.0  \n",
       "1         Heel Hook           1.0               1:18                   78.0  \n",
       "2               NaN           3.0               5:00                  900.0  \n",
       "3           Kneebar           1.0               1:28                   88.0  \n",
       "4               NaN           3.0               5:00                  900.0  \n",
       "\n",
       "[5 rows x 113 columns]"
      ]
     },
     "execution_count": 3,
     "metadata": {},
     "output_type": "execute_result"
    }
   ],
   "source": [
    "# Read data from file 'filename.csv' \n",
    "# (in the same directory that your python process is based)\n",
    "# Control delimiters, rows, column names with read_csv (see later) \n",
    "data = pd.read_csv(\"ufc-master.csv\")\n",
    "\n",
    "data.head()"
   ]
  },
  {
   "cell_type": "code",
   "execution_count": 4,
   "metadata": {
    "collapsed": true
   },
   "outputs": [
    {
     "data": {
      "text/plain": [
       "<matplotlib.axes._subplots.AxesSubplot at 0x1f5aeab63c8>"
      ]
     },
     "execution_count": 4,
     "metadata": {},
     "output_type": "execute_result"
    },
    {
     "data": {
      "image/png": "[encoded data removed]",
      "text/plain": [
       "<Figure size 432x288 with 1 Axes>"
      ]
     },
     "metadata": {},
     "output_type": "display_data"
    }
   ],
   "source": [
    "plt.style.use('fivethirtyeight')\n",
    "\n",
    "data['weight_class'].value_counts().plot(kind=\"bar\")"
   ]
  },
  {
   "cell_type": "code",
   "execution_count": null,
   "metadata": {},
   "outputs": [],
   "source": [
    "data['Winner'].value_counts().plot(kind=\"bar\")"
   ]
  },
  {
   "cell_type": "code",
   "execution_count": null,
   "metadata": {},
   "outputs": [],
   "source": [
    "data['country'].value_counts().plot(kind=\"bar\")"
   ]
  },
  {
   "cell_type": "code",
   "execution_count": 5,
   "metadata": {},
   "outputs": [],
   "source": [
    "ufc_cut = pd.DataFrame.dropna(data, axis = 1, how = \"any\")"
   ]
  },
  {
   "cell_type": "code",
   "execution_count": 11,
   "metadata": {},
   "outputs": [],
   "source": [
    "ufc_cut = ufc_cut[ufc_cut.B_Reach_cms != 0]"
   ]
  },
  {
   "cell_type": "code",
   "execution_count": 28,
   "metadata": {},
   "outputs": [],
   "source": [
    "ufc_cut[\"Target\"] = np.where(ufc_cut[\"Winner\"].str.contains(\"Red\"), 1, 0)"
   ]
  },
  {
   "cell_type": "code",
   "execution_count": 29,
   "metadata": {},
   "outputs": [
    {
     "data": {
      "text/plain": [
       "<Figure size 864x720 with 0 Axes>"
      ]
     },
     "metadata": {},
     "output_type": "display_data"
    }
   ],
   "source": [
    "#Using Pearson Correlation\n",
    "plt.figure(figsize=(12,10))\n",
    "cor = ufc_cut.corr()"
   ]
  },
  {
   "cell_type": "code",
   "execution_count": 30,
   "metadata": {
    "collapsed": true
   },
   "outputs": [
    {
     "name": "stdout",
     "output_type": "stream",
     "text": [
      "R_odds\n",
      "B_odds\n",
      "R_ev\n",
      "B_ev\n",
      "title_bout\n",
      "no_of_rounds\n",
      "B_current_lose_streak\n",
      "B_current_win_streak\n",
      "B_draw\n",
      "B_longest_win_streak\n",
      "B_losses\n",
      "B_total_rounds_fought\n",
      "B_total_title_bouts\n",
      "B_win_by_Decision_Majority\n",
      "B_win_by_Decision_Split\n",
      "B_win_by_Decision_Unanimous\n",
      "B_win_by_KO/TKO\n",
      "B_win_by_Submission\n",
      "B_win_by_TKO_Doctor_Stoppage\n",
      "B_wins\n",
      "B_Height_cms\n",
      "B_Reach_cms\n",
      "B_Weight_lbs\n",
      "R_current_lose_streak\n",
      "R_current_win_streak\n",
      "R_draw\n",
      "R_longest_win_streak\n",
      "R_losses\n",
      "R_total_rounds_fought\n",
      "R_total_title_bouts\n",
      "R_win_by_Decision_Majority\n",
      "R_win_by_Decision_Split\n",
      "R_win_by_Decision_Unanimous\n",
      "R_win_by_KO/TKO\n",
      "R_win_by_Submission\n",
      "R_win_by_TKO_Doctor_Stoppage\n",
      "R_wins\n",
      "R_Height_cms\n",
      "R_Reach_cms\n",
      "R_Weight_lbs\n",
      "R_age\n",
      "B_age\n",
      "lose_streak_dif\n",
      "win_streak_dif\n",
      "longest_win_streak_dif\n",
      "win_dif\n",
      "loss_dif\n",
      "total_round_dif\n",
      "total_title_bout_dif\n",
      "ko_dif\n",
      "sub_dif\n",
      "height_dif\n",
      "reach_dif\n",
      "age_dif\n",
      "sig_str_dif\n",
      "avg_sub_att_dif\n",
      "avg_td_dif\n",
      "empty_arena\n",
      "constant_1\n",
      "Target\n"
     ]
    }
   ],
   "source": [
    "for col in cor.columns: \n",
    "    print(col) "
   ]
  },
  {
   "cell_type": "code",
   "execution_count": 41,
   "metadata": {},
   "outputs": [
    {
     "data": {
      "text/plain": [
       "R_odds     0.333623\n",
       "B_odds     0.337662\n",
       "R_ev       0.313217\n",
       "B_ev       0.312062\n",
       "R_age      0.107537\n",
       "B_age      0.105494\n",
       "age_dif    0.157110\n",
       "Target     1.000000\n",
       "Name: Target, dtype: float64"
      ]
     },
     "execution_count": 41,
     "metadata": {},
     "output_type": "execute_result"
    }
   ],
   "source": [
    "#Correlation with output variable\n",
    "cor_target = abs(cor[\"Target\"])\n",
    "#Selecting highly correlated features\n",
    "relevant_features = cor_target[cor_target>0.1]\n",
    "relevant_features"
   ]
  },
  {
   "cell_type": "code",
   "execution_count": 34,
   "metadata": {
    "scrolled": true
   },
   "outputs": [
    {
     "name": "stdout",
     "output_type": "stream",
     "text": [
      "          R_odds      R_ev\n",
      "R_odds  1.000000  0.979321\n",
      "R_ev    0.979321  1.000000\n"
     ]
    }
   ],
   "source": [
    "print(cor[[\"R_odds\",\"R_ev\"]].corr())"
   ]
  },
  {
   "cell_type": "code",
   "execution_count": 49,
   "metadata": {},
   "outputs": [],
   "source": [
    "ufc_cut_feat = train[['R_odds', 'age_dif']]\n",
    "ufc_cut_targ = train['Winner']"
   ]
  },
  {
   "cell_type": "code",
   "execution_count": 50,
   "metadata": {},
   "outputs": [],
   "source": [
    "seed = 50  # so that the result is reproducible\n",
    "x_train, x_test, y_train, y_test = train_test_split(ufc_cut_feat, ufc_cut_targ , test_size = 0.2, random_state = seed)"
   ]
  },
  {
   "cell_type": "code",
   "execution_count": 54,
   "metadata": {
    "scrolled": true
   },
   "outputs": [
    {
     "data": {
      "text/plain": [
       "LogisticRegression(C=1.0, class_weight=None, dual=False, fit_intercept=True,\n",
       "                   intercept_scaling=1, l1_ratio=None, max_iter=100,\n",
       "                   multi_class='auto', n_jobs=None, penalty='l2',\n",
       "                   random_state=None, solver='lbfgs', tol=0.0001, verbose=0,\n",
       "                   warm_start=False)"
      ]
     },
     "execution_count": 54,
     "metadata": {},
     "output_type": "execute_result"
    }
   ],
   "source": [
    "lr.fit(x_train, y_train)"
   ]
  },
  {
   "cell_type": "code",
   "execution_count": 59,
   "metadata": {},
   "outputs": [],
   "source": [
    "# Make predictions on test data\n",
    "predictions = lr.predict(x_test)"
   ]
  },
  {
   "cell_type": "code",
   "execution_count": 60,
   "metadata": {
    "scrolled": true
   },
   "outputs": [
    {
     "name": "stdout",
     "output_type": "stream",
     "text": [
      "0.6200873362445415\n"
     ]
    }
   ],
   "source": [
    "# Use score method to get accuracy of model\n",
    "score = lr.score(x_test, y_test)\n",
    "print(score)"
   ]
  },
  {
   "cell_type": "code",
   "execution_count": 61,
   "metadata": {},
   "outputs": [],
   "source": [
    "cm = metrics.confusion_matrix(y_test, predictions)"
   ]
  },
  {
   "cell_type": "code",
   "execution_count": 62,
   "metadata": {},
   "outputs": [
    {
     "data": {
      "image/png": "[encoded data removed]",
      "text/plain": [
       "<Figure size 648x648 with 2 Axes>"
      ]
     },
     "metadata": {},
     "output_type": "display_data"
    }
   ],
   "source": [
    "plt.figure(figsize=(9,9))\n",
    "sns.heatmap(cm, annot=True, fmt=\".3f\", linewidths=.5, square = True, cmap = 'Blues_r');\n",
    "plt.ylabel('Actual label');\n",
    "plt.xlabel('Predicted label');\n",
    "all_sample_title = 'Accuracy Score: {0}'.format(score)\n",
    "plt.title(all_sample_title, size = 15);"
   ]
  }
 ],
 "metadata": {
  "kernelspec": {
   "display_name": "Python 3",
   "language": "python",
   "name": "python3"
  },
  "language_info": {
   "codemirror_mode": {
    "name": "ipython",
    "version": 3
   },
   "file_extension": ".py",
   "mimetype": "text/x-python",
   "name": "python",
   "nbconvert_exporter": "python",
   "pygments_lexer": "ipython3",
   "version": "3.7.5"
  }
 },
 "nbformat": 4,
 "nbformat_minor": 4
}
